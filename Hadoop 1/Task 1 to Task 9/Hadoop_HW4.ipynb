{
  "nbformat": 4,
  "nbformat_minor": 0,
  "metadata": {
    "colab": {
      "provenance": []
    },
    "kernelspec": {
      "name": "python3",
      "display_name": "Python 3"
    },
    "language_info": {
      "name": "python"
    }
  },
  "cells": [
    {
      "cell_type": "markdown",
      "source": [
        "Vicente De Leon\n",
        "\n",
        "Assignment 4 Hadoop\n",
        "\n",
        "Text, CSV , JSON File, Top N creations\n",
        "\n",
        "Big Data Applications\n",
        "\n",
        "Indiana University"
      ],
      "metadata": {
        "id": "Z__d2Uuo9jXQ"
      }
    },
    {
      "cell_type": "markdown",
      "source": [
        "# PART 1 - Text File Creation:"
      ],
      "metadata": {
        "id": "Rwfe5KF_9wXA"
      }
    },
    {
      "cell_type": "code",
      "execution_count": null,
      "metadata": {
        "id": "cAP7aWAB73mj"
      },
      "outputs": [],
      "source": [
        "# Sources: https://stackoverflow.com/questions/48959098/how-to-create-a-new-text-file-using-python\n",
        "\n",
        "with open(\"hw4_file1.txt\", \"w\") as file:\n",
        "  file.write(\"This is the first file created for HW4 Hadoop Basic by Vicente De Leon.\")"
      ]
    },
    {
      "cell_type": "markdown",
      "source": [
        "Adding a couple of lines randomly into the text file:"
      ],
      "metadata": {
        "id": "g01yN45P90Zl"
      }
    },
    {
      "cell_type": "code",
      "source": [
        "# Source: https://www.w3schools.com/python/python_file_write.asp\n",
        "\n",
        "with open(\"hw4_file1.txt\", \"a\") as file:\n",
        "  file.write(\"\\nIn this file we are using stack overflow source!\")\n",
        "  file.write(\"\\nAlso using w3schools source!\")\n",
        "  file.write(\"\\nI do enjoy machine learning.\")\n",
        "  file.write(\"\\nMissing Panama.\")\n",
        "  file.write(\"\\nI hope can land a good job soon.\")\n",
        "  file.write(\"\\n12345 RANDOM number.\")\n",
        "  file.write(\"\\nLet's end this txt file.\")\n",
        "  file.close()"
      ],
      "metadata": {
        "id": "745zfqMP9i-f"
      },
      "execution_count": null,
      "outputs": []
    },
    {
      "cell_type": "code",
      "source": [
        "# Source: https://www.w3schools.com/python/python_file_open.asp\n",
        "with open(\"hw4_file1.txt\", \"r\") as file:\n",
        "  print(file.read())"
      ],
      "metadata": {
        "colab": {
          "base_uri": "https://localhost:8080/"
        },
        "id": "af7dkPNt-yVI",
        "outputId": "f0193792-8ba2-45c3-f26a-a92f7eb7470f"
      },
      "execution_count": null,
      "outputs": [
        {
          "output_type": "stream",
          "name": "stdout",
          "text": [
            "This is the first file created for HW4 Hadoop Basic by Vicente De Leon.\n",
            "In this file we are using stack overflow source!\n",
            "Also using w3schools source!\n",
            "I do enjoy machine learning.\n",
            "Missing Panama.\n",
            "I hope can land a good job soon.\n",
            "12345 RANDOM number.\n",
            "Let's end this txt file.\n"
          ]
        }
      ]
    },
    {
      "cell_type": "markdown",
      "source": [
        "# PART 1 - CSV Creation"
      ],
      "metadata": {
        "id": "wYA_Ckd9AVPB"
      }
    },
    {
      "cell_type": "code",
      "source": [
        "# Source: https://www.geeksforgeeks.org/working-csv-files-python/\n",
        "\n",
        "import pandas as pd\n",
        "import csv\n",
        "\n",
        "fields = [\"Classes\", \"School\", \"Student\", \"Location\"]\n",
        "\n",
        "rows = [[\"Financial Markets\", \"Florida State University\", \"Antonio Campagna\", \"Tallahassee, FL.\"],\n",
        "        [\"Family and Child Science\", \"Florida State University\", \"Carolina Licona\", \"Tallahassee, FL.\"],\n",
        "        [\"Deep Learning Principles\", \"Indiana University\", \"Vicente De Leon\", \"Bloomington, In.\"],\n",
        "        [\"Financial Risk Management\", \"Florida State University\", \"Vicente De Leon\", \"Tallahassee, FL.\"],\n",
        "        [\"Big Data Applications\", \"Indiana University\", \"Carolina Licona\", \"Bloomington, In.\"]]\n",
        "\n",
        "filename = \"FSU_IU_Records.csv\"\n",
        "\n",
        "with open(filename, 'w') as csvfile:\n",
        "    csvwriter = csv.writer(csvfile)\n",
        "    csvwriter.writerow(fields)\n",
        "    csvwriter.writerows(rows)"
      ],
      "metadata": {
        "id": "aVG8UWxgAXKN"
      },
      "execution_count": null,
      "outputs": []
    },
    {
      "cell_type": "code",
      "source": [
        "csv = pd.read_csv(\"FSU_IU_Records.csv\")\n",
        "csv"
      ],
      "metadata": {
        "colab": {
          "base_uri": "https://localhost:8080/",
          "height": 204
        },
        "id": "Wm7kOjgCDI-Q",
        "outputId": "9d0a45ea-6c87-4b6d-e45e-e1a5321c14b2"
      },
      "execution_count": null,
      "outputs": [
        {
          "output_type": "execute_result",
          "data": {
            "text/plain": [
              "                     Classes                    School           Student  \\\n",
              "0          Financial Markets  Florida State University  Antonio Campagna   \n",
              "1   Family and Child Science  Florida State University   Carolina Licona   \n",
              "2   Deep Learning Principles        Indiana University   Vicente De Leon   \n",
              "3  Financial Risk Management  Florida State University   Vicente De Leon   \n",
              "4      Big Data Applications        Indiana University   Carolina Licona   \n",
              "\n",
              "           Location  \n",
              "0  Tallahassee, FL.  \n",
              "1  Tallahassee, FL.  \n",
              "2  Bloomington, In.  \n",
              "3  Tallahassee, FL.  \n",
              "4  Bloomington, In.  "
            ],
            "text/html": [
              "\n",
              "  <div id=\"df-817e0140-7b20-4bc9-8866-a9d59b837ee6\" class=\"colab-df-container\">\n",
              "    <div>\n",
              "<style scoped>\n",
              "    .dataframe tbody tr th:only-of-type {\n",
              "        vertical-align: middle;\n",
              "    }\n",
              "\n",
              "    .dataframe tbody tr th {\n",
              "        vertical-align: top;\n",
              "    }\n",
              "\n",
              "    .dataframe thead th {\n",
              "        text-align: right;\n",
              "    }\n",
              "</style>\n",
              "<table border=\"1\" class=\"dataframe\">\n",
              "  <thead>\n",
              "    <tr style=\"text-align: right;\">\n",
              "      <th></th>\n",
              "      <th>Classes</th>\n",
              "      <th>School</th>\n",
              "      <th>Student</th>\n",
              "      <th>Location</th>\n",
              "    </tr>\n",
              "  </thead>\n",
              "  <tbody>\n",
              "    <tr>\n",
              "      <th>0</th>\n",
              "      <td>Financial Markets</td>\n",
              "      <td>Florida State University</td>\n",
              "      <td>Antonio Campagna</td>\n",
              "      <td>Tallahassee, FL.</td>\n",
              "    </tr>\n",
              "    <tr>\n",
              "      <th>1</th>\n",
              "      <td>Family and Child Science</td>\n",
              "      <td>Florida State University</td>\n",
              "      <td>Carolina Licona</td>\n",
              "      <td>Tallahassee, FL.</td>\n",
              "    </tr>\n",
              "    <tr>\n",
              "      <th>2</th>\n",
              "      <td>Deep Learning Principles</td>\n",
              "      <td>Indiana University</td>\n",
              "      <td>Vicente De Leon</td>\n",
              "      <td>Bloomington, In.</td>\n",
              "    </tr>\n",
              "    <tr>\n",
              "      <th>3</th>\n",
              "      <td>Financial Risk Management</td>\n",
              "      <td>Florida State University</td>\n",
              "      <td>Vicente De Leon</td>\n",
              "      <td>Tallahassee, FL.</td>\n",
              "    </tr>\n",
              "    <tr>\n",
              "      <th>4</th>\n",
              "      <td>Big Data Applications</td>\n",
              "      <td>Indiana University</td>\n",
              "      <td>Carolina Licona</td>\n",
              "      <td>Bloomington, In.</td>\n",
              "    </tr>\n",
              "  </tbody>\n",
              "</table>\n",
              "</div>\n",
              "    <div class=\"colab-df-buttons\">\n",
              "\n",
              "  <div class=\"colab-df-container\">\n",
              "    <button class=\"colab-df-convert\" onclick=\"convertToInteractive('df-817e0140-7b20-4bc9-8866-a9d59b837ee6')\"\n",
              "            title=\"Convert this dataframe to an interactive table.\"\n",
              "            style=\"display:none;\">\n",
              "\n",
              "  <svg xmlns=\"http://www.w3.org/2000/svg\" height=\"24px\" viewBox=\"0 -960 960 960\">\n",
              "    <path d=\"M120-120v-720h720v720H120Zm60-500h600v-160H180v160Zm220 220h160v-160H400v160Zm0 220h160v-160H400v160ZM180-400h160v-160H180v160Zm440 0h160v-160H620v160ZM180-180h160v-160H180v160Zm440 0h160v-160H620v160Z\"/>\n",
              "  </svg>\n",
              "    </button>\n",
              "\n",
              "  <style>\n",
              "    .colab-df-container {\n",
              "      display:flex;\n",
              "      gap: 12px;\n",
              "    }\n",
              "\n",
              "    .colab-df-convert {\n",
              "      background-color: #E8F0FE;\n",
              "      border: none;\n",
              "      border-radius: 50%;\n",
              "      cursor: pointer;\n",
              "      display: none;\n",
              "      fill: #1967D2;\n",
              "      height: 32px;\n",
              "      padding: 0 0 0 0;\n",
              "      width: 32px;\n",
              "    }\n",
              "\n",
              "    .colab-df-convert:hover {\n",
              "      background-color: #E2EBFA;\n",
              "      box-shadow: 0px 1px 2px rgba(60, 64, 67, 0.3), 0px 1px 3px 1px rgba(60, 64, 67, 0.15);\n",
              "      fill: #174EA6;\n",
              "    }\n",
              "\n",
              "    .colab-df-buttons div {\n",
              "      margin-bottom: 4px;\n",
              "    }\n",
              "\n",
              "    [theme=dark] .colab-df-convert {\n",
              "      background-color: #3B4455;\n",
              "      fill: #D2E3FC;\n",
              "    }\n",
              "\n",
              "    [theme=dark] .colab-df-convert:hover {\n",
              "      background-color: #434B5C;\n",
              "      box-shadow: 0px 1px 3px 1px rgba(0, 0, 0, 0.15);\n",
              "      filter: drop-shadow(0px 1px 2px rgba(0, 0, 0, 0.3));\n",
              "      fill: #FFFFFF;\n",
              "    }\n",
              "  </style>\n",
              "\n",
              "    <script>\n",
              "      const buttonEl =\n",
              "        document.querySelector('#df-817e0140-7b20-4bc9-8866-a9d59b837ee6 button.colab-df-convert');\n",
              "      buttonEl.style.display =\n",
              "        google.colab.kernel.accessAllowed ? 'block' : 'none';\n",
              "\n",
              "      async function convertToInteractive(key) {\n",
              "        const element = document.querySelector('#df-817e0140-7b20-4bc9-8866-a9d59b837ee6');\n",
              "        const dataTable =\n",
              "          await google.colab.kernel.invokeFunction('convertToInteractive',\n",
              "                                                    [key], {});\n",
              "        if (!dataTable) return;\n",
              "\n",
              "        const docLinkHtml = 'Like what you see? Visit the ' +\n",
              "          '<a target=\"_blank\" href=https://colab.research.google.com/notebooks/data_table.ipynb>data table notebook</a>'\n",
              "          + ' to learn more about interactive tables.';\n",
              "        element.innerHTML = '';\n",
              "        dataTable['output_type'] = 'display_data';\n",
              "        await google.colab.output.renderOutput(dataTable, element);\n",
              "        const docLink = document.createElement('div');\n",
              "        docLink.innerHTML = docLinkHtml;\n",
              "        element.appendChild(docLink);\n",
              "      }\n",
              "    </script>\n",
              "  </div>\n",
              "\n",
              "\n",
              "<div id=\"df-c0e71b45-edd1-4cc1-9a92-7edd0891b6bc\">\n",
              "  <button class=\"colab-df-quickchart\" onclick=\"quickchart('df-c0e71b45-edd1-4cc1-9a92-7edd0891b6bc')\"\n",
              "            title=\"Suggest charts.\"\n",
              "            style=\"display:none;\">\n",
              "\n",
              "<svg xmlns=\"http://www.w3.org/2000/svg\" height=\"24px\"viewBox=\"0 0 24 24\"\n",
              "     width=\"24px\">\n",
              "    <g>\n",
              "        <path d=\"M19 3H5c-1.1 0-2 .9-2 2v14c0 1.1.9 2 2 2h14c1.1 0 2-.9 2-2V5c0-1.1-.9-2-2-2zM9 17H7v-7h2v7zm4 0h-2V7h2v10zm4 0h-2v-4h2v4z\"/>\n",
              "    </g>\n",
              "</svg>\n",
              "  </button>\n",
              "\n",
              "<style>\n",
              "  .colab-df-quickchart {\n",
              "      --bg-color: #E8F0FE;\n",
              "      --fill-color: #1967D2;\n",
              "      --hover-bg-color: #E2EBFA;\n",
              "      --hover-fill-color: #174EA6;\n",
              "      --disabled-fill-color: #AAA;\n",
              "      --disabled-bg-color: #DDD;\n",
              "  }\n",
              "\n",
              "  [theme=dark] .colab-df-quickchart {\n",
              "      --bg-color: #3B4455;\n",
              "      --fill-color: #D2E3FC;\n",
              "      --hover-bg-color: #434B5C;\n",
              "      --hover-fill-color: #FFFFFF;\n",
              "      --disabled-bg-color: #3B4455;\n",
              "      --disabled-fill-color: #666;\n",
              "  }\n",
              "\n",
              "  .colab-df-quickchart {\n",
              "    background-color: var(--bg-color);\n",
              "    border: none;\n",
              "    border-radius: 50%;\n",
              "    cursor: pointer;\n",
              "    display: none;\n",
              "    fill: var(--fill-color);\n",
              "    height: 32px;\n",
              "    padding: 0;\n",
              "    width: 32px;\n",
              "  }\n",
              "\n",
              "  .colab-df-quickchart:hover {\n",
              "    background-color: var(--hover-bg-color);\n",
              "    box-shadow: 0 1px 2px rgba(60, 64, 67, 0.3), 0 1px 3px 1px rgba(60, 64, 67, 0.15);\n",
              "    fill: var(--button-hover-fill-color);\n",
              "  }\n",
              "\n",
              "  .colab-df-quickchart-complete:disabled,\n",
              "  .colab-df-quickchart-complete:disabled:hover {\n",
              "    background-color: var(--disabled-bg-color);\n",
              "    fill: var(--disabled-fill-color);\n",
              "    box-shadow: none;\n",
              "  }\n",
              "\n",
              "  .colab-df-spinner {\n",
              "    border: 2px solid var(--fill-color);\n",
              "    border-color: transparent;\n",
              "    border-bottom-color: var(--fill-color);\n",
              "    animation:\n",
              "      spin 1s steps(1) infinite;\n",
              "  }\n",
              "\n",
              "  @keyframes spin {\n",
              "    0% {\n",
              "      border-color: transparent;\n",
              "      border-bottom-color: var(--fill-color);\n",
              "      border-left-color: var(--fill-color);\n",
              "    }\n",
              "    20% {\n",
              "      border-color: transparent;\n",
              "      border-left-color: var(--fill-color);\n",
              "      border-top-color: var(--fill-color);\n",
              "    }\n",
              "    30% {\n",
              "      border-color: transparent;\n",
              "      border-left-color: var(--fill-color);\n",
              "      border-top-color: var(--fill-color);\n",
              "      border-right-color: var(--fill-color);\n",
              "    }\n",
              "    40% {\n",
              "      border-color: transparent;\n",
              "      border-right-color: var(--fill-color);\n",
              "      border-top-color: var(--fill-color);\n",
              "    }\n",
              "    60% {\n",
              "      border-color: transparent;\n",
              "      border-right-color: var(--fill-color);\n",
              "    }\n",
              "    80% {\n",
              "      border-color: transparent;\n",
              "      border-right-color: var(--fill-color);\n",
              "      border-bottom-color: var(--fill-color);\n",
              "    }\n",
              "    90% {\n",
              "      border-color: transparent;\n",
              "      border-bottom-color: var(--fill-color);\n",
              "    }\n",
              "  }\n",
              "</style>\n",
              "\n",
              "  <script>\n",
              "    async function quickchart(key) {\n",
              "      const quickchartButtonEl =\n",
              "        document.querySelector('#' + key + ' button');\n",
              "      quickchartButtonEl.disabled = true;  // To prevent multiple clicks.\n",
              "      quickchartButtonEl.classList.add('colab-df-spinner');\n",
              "      try {\n",
              "        const charts = await google.colab.kernel.invokeFunction(\n",
              "            'suggestCharts', [key], {});\n",
              "      } catch (error) {\n",
              "        console.error('Error during call to suggestCharts:', error);\n",
              "      }\n",
              "      quickchartButtonEl.classList.remove('colab-df-spinner');\n",
              "      quickchartButtonEl.classList.add('colab-df-quickchart-complete');\n",
              "    }\n",
              "    (() => {\n",
              "      let quickchartButtonEl =\n",
              "        document.querySelector('#df-c0e71b45-edd1-4cc1-9a92-7edd0891b6bc button');\n",
              "      quickchartButtonEl.style.display =\n",
              "        google.colab.kernel.accessAllowed ? 'block' : 'none';\n",
              "    })();\n",
              "  </script>\n",
              "</div>\n",
              "    </div>\n",
              "  </div>\n"
            ]
          },
          "metadata": {},
          "execution_count": 12
        }
      ]
    },
    {
      "cell_type": "markdown",
      "source": [
        "# PART 2 (Task 10, 11, and 12) - JSON File Amazon Kindle Reviews"
      ],
      "metadata": {
        "id": "8anYqewdv_qv"
      }
    },
    {
      "cell_type": "code",
      "source": [
        "# Source: https://www.programiz.com/python-programming/json\n",
        "# Source: https://www.geeksforgeeks.org/json-loads-in-python/\n",
        "\n",
        "import json\n",
        "\n",
        "num_lines = 5\n",
        "\n",
        "with open('Kindle_Store_5.json', 'r') as file:\n",
        "    line_count = 0\n",
        "    for line in file:\n",
        "        line_count += 1\n",
        "        data = json.loads(line)\n",
        "        print(data)\n",
        "        if line_count >= num_lines:\n",
        "            break"
      ],
      "metadata": {
        "colab": {
          "base_uri": "https://localhost:8080/"
        },
        "id": "oK6wEGS36yXh",
        "outputId": "25665de0-4027-4dab-ae0f-2a18042576a4"
      },
      "execution_count": null,
      "outputs": [
        {
          "output_type": "stream",
          "name": "stdout",
          "text": [
            "{'overall': 4.0, 'verified': True, 'reviewTime': '07 3, 2014', 'reviewerID': 'A2LSKD2H9U8N0J', 'asin': 'B000FA5KK0', 'style': {'Format:': ' Kindle Edition'}, 'reviewerName': 'sandra sue marsolek', 'reviewText': 'pretty good story, a little exaggerated, but I liked it pretty well.  liked the characters, the plot..it had mystery, action, love, all of the main things. I think most western lovers would injoy this book', 'summary': 'pretty good story', 'unixReviewTime': 1404345600}\n",
            "{'overall': 5.0, 'verified': True, 'reviewTime': '05 26, 2014', 'reviewerID': 'A2QP13XTJND1QS', 'asin': 'B000FA5KK0', 'style': {'Format:': ' Kindle Edition'}, 'reviewerName': 'Tpl', 'reviewText': \"If you've read other max brand westerns, you know what to expect, if not, you,'re in for a treat. Let's strap on our six guns! We gotta ride!\", 'summary': 'A very good book', 'unixReviewTime': 1401062400}\n",
            "{'overall': 5.0, 'verified': True, 'reviewTime': '09 16, 2016', 'reviewerID': 'A8WQ7MAG3HFOZ', 'asin': 'B000FA5KK0', 'style': {'Format:': ' Kindle Edition'}, 'reviewerName': 'Alverne F. Anderson', 'reviewText': 'Love Max, always a fun twist', 'summary': 'Five Stars', 'unixReviewTime': 1473984000}\n",
            "{'overall': 5.0, 'verified': True, 'reviewTime': '03 3, 2016', 'reviewerID': 'A1E0MODSRYP7O', 'asin': 'B000FA5KK0', 'style': {'Format:': ' Kindle Edition'}, 'reviewerName': 'Jeff', 'reviewText': 'As usual for him, a good book', 'summary': 'a good', 'unixReviewTime': 1456963200}\n",
            "{'overall': 5.0, 'vote': '2', 'verified': True, 'reviewTime': '09 10, 2015', 'reviewerID': 'AYUTCGVSM1H7T', 'asin': 'B000FA5KK0', 'style': {'Format:': ' Kindle Edition'}, 'reviewerName': 'DEHS - EddyRapcon', 'reviewText': 'MB is one of the original western writers and after so many years and so many retreads the man is in a class all his own. Just like Zane Grey and Bret Harrell. This is an excellent read, from a time of real cowmen, for the genre.....ER', 'summary': 'A Western', 'unixReviewTime': 1441843200}\n"
          ]
        }
      ]
    },
    {
      "cell_type": "markdown",
      "source": [
        "# Creating Task 12 Python Script"
      ],
      "metadata": {
        "id": "gNnOBT-4tmuh"
      }
    },
    {
      "cell_type": "code",
      "source": [
        "# Source: https://www.geeksforgeeks.org/python-n-largest-values-in-dictionary/\n",
        "\n",
        "from heapq import nlargest\n",
        "\n",
        "# Some sample words from Task11_output.txt\n",
        "task11_output = {\n",
        "    'cutipie': 1,\n",
        "    'cutis': 1,\n",
        "    'cutist': 1,\n",
        "    'cutiv': 1,\n",
        "    'cutlass': 36,\n",
        "    'cutlass\\'s': 1,\n",
        "    'cutlasses': 4,\n",
        "    'cutler': 210,\n",
        "    'cutler\\'s': 4,\n",
        "    'cutler....sad': 1,\n",
        "    'cutlers': 6,\n",
        "    'cutlery': 21,\n",
        "    'cutlet': 2,\n",
        "    'cutlets': 6,\n",
        "    'cutlines': 1,\n",
        "    'cutlip': 6,\n",
        "    'cutlip\\'s': 1,\n",
        "    'cutlure': 1\n",
        "}\n",
        "\n",
        "# Set N to any number\n",
        "N = 5\n",
        "top_n_words = nlargest(N, task11_output, key=task11_output.get)\n",
        "for word in top_n_words:\n",
        "    print(f\"{word}: {task11_output[word]}\")\n"
      ],
      "metadata": {
        "colab": {
          "base_uri": "https://localhost:8080/"
        },
        "id": "prdFiQc0tl5K",
        "outputId": "73aada59-f1e4-47a6-d5cd-beac99f0e19f"
      },
      "execution_count": null,
      "outputs": [
        {
          "output_type": "stream",
          "name": "stdout",
          "text": [
            "cutler: 210\n",
            "cutlass: 36\n",
            "cutlery: 21\n",
            "cutlers: 6\n",
            "cutlets: 6\n"
          ]
        }
      ]
    }
  ]
}